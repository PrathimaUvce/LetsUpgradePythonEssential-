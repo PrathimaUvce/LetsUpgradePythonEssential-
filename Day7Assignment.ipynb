{
 "cells": [
  {
   "cell_type": "markdown",
   "metadata": {},
   "source": [
    "Function \n",
    "-->> Organizing the code in one place and accounts redundecy "
   ]
  },
  {
   "cell_type": "code",
   "execution_count": 6,
   "metadata": {},
   "outputs": [
    {
     "name": "stdout",
     "output_type": "stream",
     "text": [
      "hello all: 30\n"
     ]
    }
   ],
   "source": [
    "# Syntax Function with arguments\n",
    "def func(a,b):   #parameters\n",
    "    c = a+b\n",
    "    print(\"hello all:\", c)\n",
    "func(10,20)   #arguments "
   ]
  },
  {
   "cell_type": "code",
   "execution_count": 11,
   "metadata": {},
   "outputs": [
    {
     "name": "stdout",
     "output_type": "stream",
     "text": [
      "64\n"
     ]
    }
   ],
   "source": [
    "def func(a,b):   #parameters  Function with retunr value\n",
    "    c = a+b\n",
    "    return c\n",
    "res = func(10,20) + 34  #arguments \n",
    "print(res)"
   ]
  },
  {
   "cell_type": "code",
   "execution_count": 28,
   "metadata": {},
   "outputs": [
    {
     "name": "stdout",
     "output_type": "stream",
     "text": [
      "Name Age Marks\n",
      "mani 30 80 <class 'str'> <class 'int'> <class 'int'>\n",
      "bhaskar 32 60 <class 'str'> <class 'int'> <class 'int'>\n",
      "shashi 90 60 <class 'str'> <class 'int'> <class 'int'>\n"
     ]
    }
   ],
   "source": [
    "def fun1(name,age=32,marks=60):#Function with default value\n",
    "    print(name,age,marks, type(name),type(age), type(marks))\n",
    "print(\"Name Age Marks\")\n",
    "fun1(\"mani\",30,80)\n",
    "fun1(\"bhaskar\")\n",
    "fun1(\"shashi\", 90)"
   ]
  },
  {
   "cell_type": "code",
   "execution_count": 24,
   "metadata": {},
   "outputs": [
    {
     "name": "stdout",
     "output_type": "stream",
     "text": [
      "12 ()\n",
      "10 (20,)\n",
      "4 (5, 1, 3, 6)\n"
     ]
    }
   ],
   "source": [
    "def func1(a, *b): # type of variable *b is tuple #function with variable lenght argument\n",
    "    print(a,b)\n",
    "func1(12)\n",
    "func1(10,20)\n",
    "func1(4,5,1,3,6)\n"
   ]
  },
  {
   "cell_type": "code",
   "execution_count": 26,
   "metadata": {},
   "outputs": [
    {
     "name": "stdout",
     "output_type": "stream",
     "text": [
      "{'name': 'xyz', 'marks': 70} <class 'dict'>\n"
     ]
    }
   ],
   "source": [
    "#funtion with keyword argument\n",
    "def func1(**kwargs):\n",
    "    print(kwargs,type(kwargs))\n",
    "func1(name ='xyz', marks=70)\n",
    "    "
   ]
  },
  {
   "cell_type": "code",
   "execution_count": 30,
   "metadata": {},
   "outputs": [
    {
     "name": "stdout",
     "output_type": "stream",
     "text": [
      "inside before appending  [4, 5, 6] 149809773128\n",
      "after appending  [4, 5, 6, 30] 149809773128\n",
      "after calling  [4, 5, 6, 30] 149809773128\n"
     ]
    }
   ],
   "source": [
    "#Pass by reference or Pass by value\n",
    "def func2(list1):\n",
    "    print(\"inside before appending \", list1,id(list1))\n",
    "    list1.append(30)\n",
    "    print(\"after appending \", list1, id(list1))\n",
    "    \n",
    "list2 =[4,5,6]\n",
    "func2(list2)\n",
    "print(\"after calling \", list2, id(list2))\n",
    "    "
   ]
  },
  {
   "cell_type": "code",
   "execution_count": 32,
   "metadata": {},
   "outputs": [
    {
     "name": "stdout",
     "output_type": "stream",
     "text": [
      "inside before 30 140721217836768\n",
      "inside after 40 140721217837088\n",
      "after  30 140721217836768\n"
     ]
    }
   ],
   "source": [
    "def fun1(a):    # local scope \n",
    "    print(\"inside before\",a, id(a))   \n",
    "    a =a+10  #local variable\n",
    "    print(\"inside after\", a, id(a))\n",
    "    \n",
    "a= 30    #global variable in global scope\n",
    "fun1(a)\n",
    "print(\"after \",a, id(a))"
   ]
  },
  {
   "cell_type": "code",
   "execution_count": 33,
   "metadata": {},
   "outputs": [
    {
     "ename": "SyntaxError",
     "evalue": "invalid syntax (<ipython-input-33-c73bef07f504>, line 5)",
     "output_type": "error",
     "traceback": [
      "\u001b[1;36m  File \u001b[1;32m\"<ipython-input-33-c73bef07f504>\"\u001b[1;36m, line \u001b[1;32m5\u001b[0m\n\u001b[1;33m    fun()local variable 'k' referenced before assaignment\u001b[0m\n\u001b[1;37m             ^\u001b[0m\n\u001b[1;31mSyntaxError\u001b[0m\u001b[1;31m:\u001b[0m invalid syntax\n"
     ]
    }
   ],
   "source": [
    "k=0    \n",
    "def fun(): #k is not defind inside the def, cause k global variable\n",
    "    k= k+10\n",
    "    print(k)\n",
    "fun()"
   ]
  },
  {
   "cell_type": "code",
   "execution_count": 34,
   "metadata": {
    "scrolled": true
   },
   "outputs": [
    {
     "name": "stdout",
     "output_type": "stream",
     "text": [
      "10\n"
     ]
    }
   ],
   "source": [
    "k=0    \n",
    "def fun():\n",
    "    global k\n",
    "    k= k+10\n",
    "    print(k)\n",
    "fun()"
   ]
  },
  {
   "cell_type": "code",
   "execution_count": 36,
   "metadata": {},
   "outputs": [],
   "source": [
    "# Module:-contains functions,class and variables\n",
    "def sum1(a,b):    # save this code in other file saving it as module\n",
    "    c= a+b\n",
    "    return c\n",
    "def sub1(a,b):\n",
    "    c= a-b\n",
    "    return c"
   ]
  },
  {
   "cell_type": "code",
   "execution_count": null,
   "metadata": {},
   "outputs": [],
   "source": [
    "import module\n",
    "print(module.sum(10,30))"
   ]
  },
  {
   "cell_type": "code",
   "execution_count": null,
   "metadata": {},
   "outputs": [],
   "source": [
    "import module import sum1\n",
    "# import module import * #all classes included\n",
    "print(sum1(90,23))"
   ]
  },
  {
   "cell_type": "code",
   "execution_count": null,
   "metadata": {},
   "outputs": [],
   "source": [
    "import module as md\n",
    "print(md.sum1(10,30))"
   ]
  },
  {
   "cell_type": "markdown",
   "metadata": {},
   "source": [
    "#differnt folder\n",
    "1. curent folder\n",
    "2. python path\n",
    "3. built-in"
   ]
  },
  {
   "cell_type": "markdown",
   "metadata": {},
   "source": [
    "->>current folder\n",
    ">see -h\n",
    "\n",
    "-->python path\n",
    "env varible\n",
    "In terminal-- set PYTHONPATH=D:\\All_python_code\\te \n",
    "go to properties - advance setting- env variable- new- give proper path- ok- done\n",
    "-->Built-in \n",
    "import sys # built-in \n"
   ]
  },
  {
   "cell_type": "code",
   "execution_count": null,
   "metadata": {},
   "outputs": [],
   "source": [
    "import sys\n",
    "sys.path.append(\"D:\\All_python_code\\\\test\")  ##buit-in path\n",
    "form module import *\n",
    "from module2 import*\n",
    "print (sum1(90,2))"
   ]
  },
  {
   "cell_type": "code",
   "execution_count": 40,
   "metadata": {},
   "outputs": [
    {
     "name": "stdout",
     "output_type": "stream",
     "text": [
      "__main__ <class 'str'>\n"
     ]
    }
   ],
   "source": [
    "def sum1(a,b):    # save this code in other file saving it as module\n",
    "    c= a+b\n",
    "    return c\n",
    "def sub1(a,b):\n",
    "    c= a-b\n",
    "    return c\n",
    "print(__name__,type(__name__))  "
   ]
  },
  {
   "cell_type": "code",
   "execution_count": 41,
   "metadata": {},
   "outputs": [
    {
     "name": "stdout",
     "output_type": "stream",
     "text": [
      "120\n"
     ]
    }
   ],
   "source": [
    "def sum1(a,b):    # save this code in other file saving it as module\n",
    "    c= a+b\n",
    "    return c\n",
    "def sub1(a,b):\n",
    "    c= a-b\n",
    "    return c\n",
    "if __name__ == \"__main__\":\n",
    "    print((sum1(80,40)))"
   ]
  },
  {
   "cell_type": "code",
   "execution_count": 1,
   "metadata": {},
   "outputs": [
    {
     "name": "stdout",
     "output_type": "stream",
     "text": [
      "{'FTP': 21, 'SSH': 22, 'TELNET': 23, 'HTTP': 80}\n"
     ]
    }
   ],
   "source": [
    "# Assignemnt : 1   \n",
    "#Use the dictionary, port1 = {21: \"FTP\", 22:\"SSH\", 23: \"telnet\", 80: \"http\"}, and make a new dictionary in which keys become values and values become keys, as shown: Port2 = {“FTP\":21, \"SSH\":22, “telnet\":23,\n",
    "# \"http\": 80}\n",
    "port1 = { 21: 'FTP', 22: 'SSH', 23: 'TELNET', 80: 'HTTP'}\n",
    "port2 = {}\n",
    "for k,v in port1.items():\n",
    "    port2[v]=k\n",
    "print(port2)\n",
    "        "
   ]
  },
  {
   "cell_type": "code",
   "execution_count": 2,
   "metadata": {},
   "outputs": [
    {
     "name": "stdout",
     "output_type": "stream",
     "text": [
      "[3, 7, 11, 9]\n"
     ]
    }
   ],
   "source": [
    "#Assignment 2 : \n",
    "#Take a list of tuple as shown -->[(1,2), (3,4), (5,6),(4,5)]\n",
    "#Make a new list which contains sum of number of tuples. \n",
    "#For example, Input [(1,2), (3,4), (5,6)] and Out put [3, 7, 11]\n",
    "list1=[(1,2),(3,4),(5,6),(4,5)]\n",
    "list2=[]\n",
    "for each in list1:\n",
    "    list2.append(each[0]+each[1])\n",
    "print(list2)"
   ]
  },
  {
   "cell_type": "code",
   "execution_count": 7,
   "metadata": {},
   "outputs": [
    {
     "name": "stdout",
     "output_type": "stream",
     "text": [
      "Given list : \n",
      " [(1, 2, 3), [1, 2], ['a', 'hit', 'less']]\n",
      "Final list: \n",
      " [1, 2, 3, 1, 2, 'a', 'hit', 'less']\n"
     ]
    }
   ],
   "source": [
    "#Assignment 3 :\n",
    "#Take a list as shown -->[(1,2,3), [1,2], ['a','hit','less']]\n",
    "#The List contains tuple and lists. Make the elements of inner lists and tuples to outer list\n",
    "list3 = [(1,2,3), [1,2], ['a','hit','less']]\n",
    "print(\"Given list : \\n\", list3)\n",
    "res = [item for t in list3 for item in t]\n",
    "print(\"Final list: \\n\",res)"
   ]
  },
  {
   "cell_type": "code",
   "execution_count": null,
   "metadata": {},
   "outputs": [],
   "source": []
  }
 ],
 "metadata": {
  "kernelspec": {
   "display_name": "Python 3",
   "language": "python",
   "name": "python3"
  },
  "language_info": {
   "codemirror_mode": {
    "name": "ipython",
    "version": 3
   },
   "file_extension": ".py",
   "mimetype": "text/x-python",
   "name": "python",
   "nbconvert_exporter": "python",
   "pygments_lexer": "ipython3",
   "version": "3.7.3"
  }
 },
 "nbformat": 4,
 "nbformat_minor": 2
}
